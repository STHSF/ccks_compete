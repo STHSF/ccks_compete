{
 "cells": [
  {
   "cell_type": "code",
   "execution_count": 1,
   "metadata": {},
   "outputs": [],
   "source": [
    "import json\n",
    "from tqdm import tqdm\n",
    "import os, re\n",
    "import numpy as np\n",
    "import pandas as pd"
   ]
  },
  {
   "cell_type": "code",
   "execution_count": 2,
   "metadata": {},
   "outputs": [],
   "source": [
    "def delete_tag(s):\n",
    "    s = re.sub('\\{IMG:.?.?.?\\}', '', s)  # 图片\n",
    "    s = re.sub(re.compile(r'[a-zA-Z]+://[^\\s]+'), '', s)  # 网址\n",
    "    s = re.sub(re.compile('<.*?>'), '', s)  # 网页标签\n",
    "    s = re.sub(re.compile('&[a-zA-Z]+;?'), ' ', s)  # 网页标签\n",
    "    s = re.sub(re.compile('[a-zA-Z0-9]*[./]+[a-zA-Z0-9./]+[a-zA-Z0-9./]*'), ' ', s)\n",
    "    s = re.sub(\"\\?{2,}\", \"\", s)\n",
    "    s = re.sub(\"\\r\", \"\", s)\n",
    "    s = re.sub(\"\\n\", \",\", s)\n",
    "    s = re.sub(\"\\t\", \",\", s)\n",
    "    s = re.sub(\"（\", \",\", s)\n",
    "    s = re.sub(\"）\", \",\", s)\n",
    "    s = re.sub(\"\\u3000\", \"\", s)\n",
    "    s = re.sub(\" \", \"\", s)\n",
    "    r4 = re.compile('\\d{4}[-/]\\d{2}[-/]\\d{2}')  # 日期\n",
    "    s = re.sub(r4, '某时', s)\n",
    "    return s\n"
   ]
  },
  {
   "cell_type": "code",
   "execution_count": 3,
   "metadata": {
    "pycharm": {
     "name": "#%%\n"
    }
   },
   "outputs": [],
   "source": [
    "def cut_sentences(content):\n",
    "    # 结束符号，包含中文和英文的\n",
    "    end_flag = ['。', ';', '；']\n",
    "\n",
    "    content_len = len(content)\n",
    "    sentences = []\n",
    "    tmp_char = ''\n",
    "    for idx, char in enumerate(content):\n",
    "        # 拼接字符\n",
    "        tmp_char += char\n",
    "\n",
    "        # 判断是否已经到了最后一位\n",
    "        if (idx + 1) == content_len:\n",
    "            sentences.append(tmp_char)\n",
    "            break\n",
    "\n",
    "        # 判断此字符是否为结束符号\n",
    "        if char in end_flag:\n",
    "            # 再判断下一个字符是否为结束符号，如果不是结束符号，则切分句子\n",
    "            next_idx = idx + 1\n",
    "            if not content[next_idx] in end_flag:\n",
    "                sentences.append(tmp_char)\n",
    "                tmp_char = ''\n",
    "\n",
    "    return sentences"
   ]
  },
  {
   "cell_type": "code",
   "execution_count": 4,
   "metadata": {
    "pycharm": {
     "name": "#%%\n"
    }
   },
   "outputs": [],
   "source": [
    "def metl_data(df):\n",
    "    z = df.groupby(['uid'])['content'].apply(lambda x: np.concatenate(list(x))).reset_index()\n",
    "    i = pd.concat([pd.Series(row['uid'], row['content']) for _, row in z.iterrows()]).reset_index()\n",
    "    i.columns = ['content', 'uid']\n",
    "    return i\n"
   ]
  },
  {
   "cell_type": "code",
   "execution_count": 5,
   "metadata": {
    "pycharm": {
     "name": "#%%\n"
    }
   },
   "outputs": [],
   "source": [
    "def get_data(train, test):\n",
    "\n",
    "    train = train[~train.content_type.isnull()].drop_duplicates().reset_index(drop=True)\n",
    "    train['content'] = train['content'].apply(lambda x: cut_sentences(x))\n",
    "    train['content'] = list(map(lambda x, y: [i for i in x if y in i], train['content'], train['entity']))\n",
    "    train_n = metl_data(train)\n",
    "    train = train_n.merge(train[['uid', 'entity']], how='left')\n",
    "    test['content'] = test['content'].apply(lambda x: cut_sentences(x))\n",
    "    test = metl_data(test)\n",
    "    train['content'] = train['content'].apply(lambda x: delete_tag(x))\n",
    "    test['content'] = test['content'].apply(lambda x: delete_tag(x))\n",
    "\n",
    "    train['content'] = list(map(lambda x, y: x[x.find(y) - 200:x.find(y) + 200], train['content'], train['entity']))\n",
    "    return train, test\n",
    "\n"
   ]
  },
  {
   "cell_type": "code",
   "execution_count": 6,
   "metadata": {
    "pycharm": {
     "name": "#%%\n"
    }
   },
   "outputs": [],
   "source": [
    "train = pd.read_csv('../ccks2020Data/event_entity_train_data_label.csv', sep='\\t', header=None,\n",
    "                        names=['uid', 'content', 'content_type', 'entity'])\n",
    "test = pd.read_csv('../ccks2020Data/event_entity_dev_data.csv', header=None)\n",
    "test = test[0].apply(lambda x: x.split('\\t')).values.tolist()\n",
    "test = pd.DataFrame(test, columns=['uid', 'content'])"
   ]
  },
  {
   "cell_type": "code",
   "execution_count": 7,
   "metadata": {},
   "outputs": [],
   "source": [
    "train['len'] = train['content'].apply(lambda x: len(x))"
   ]
  },
  {
   "cell_type": "code",
   "execution_count": 9,
   "metadata": {},
   "outputs": [],
   "source": [
    "train, test= get_data(train, test)"
   ]
  },
  {
   "cell_type": "code",
   "execution_count": 10,
   "metadata": {},
   "outputs": [
    {
     "data": {
      "text/html": [
       "<div>\n",
       "<style scoped>\n",
       "    .dataframe tbody tr th:only-of-type {\n",
       "        vertical-align: middle;\n",
       "    }\n",
       "\n",
       "    .dataframe tbody tr th {\n",
       "        vertical-align: top;\n",
       "    }\n",
       "\n",
       "    .dataframe thead th {\n",
       "        text-align: right;\n",
       "    }\n",
       "</style>\n",
       "<table border=\"1\" class=\"dataframe\">\n",
       "  <thead>\n",
       "    <tr style=\"text-align: right;\">\n",
       "      <th></th>\n",
       "      <th>content</th>\n",
       "      <th>uid</th>\n",
       "      <th>entity</th>\n",
       "    </tr>\n",
       "  </thead>\n",
       "  <tbody>\n",
       "    <tr>\n",
       "      <th>0</th>\n",
       "      <td>皖通科技(002331)实控人杨世宁减持360万股比亚迪预计一季度业绩下滑开盘跌停</td>\n",
       "      <td>2001123</td>\n",
       "      <td>比亚迪</td>\n",
       "    </tr>\n",
       "    <tr>\n",
       "      <th>1</th>\n",
       "      <td>上海验配眼镜质量抽查:宝山申视宝铧等店不合格萨博销量下滑过半世爵已资不抵债</td>\n",
       "      <td>2001512</td>\n",
       "      <td>萨博</td>\n",
       "    </tr>\n",
       "    <tr>\n",
       "      <th>2</th>\n",
       "      <td>江苏金湖通报疫苗过期三大主因县疾控中心领导班子已全免职山东墨龙(002490)业绩“变脸”及...</td>\n",
       "      <td>2001958</td>\n",
       "      <td>山东墨龙</td>\n",
       "    </tr>\n",
       "    <tr>\n",
       "      <th>3</th>\n",
       "      <td>原标题：斐讯0元购陷阱买家数亿资金被套无法提现责任编辑：柯金定</td>\n",
       "      <td>2003028</td>\n",
       "      <td>斐讯</td>\n",
       "    </tr>\n",
       "    <tr>\n",
       "      <th>4</th>\n",
       "      <td>2018年8月27日?-?就无法提现的问题,健康猫给出了以下处理方案:自签订协议起,每6个月...</td>\n",
       "      <td>2004193</td>\n",
       "      <td>健康猫</td>\n",
       "    </tr>\n",
       "    <tr>\n",
       "      <th>...</th>\n",
       "      <td>...</td>\n",
       "      <td>...</td>\n",
       "      <td>...</td>\n",
       "    </tr>\n",
       "    <tr>\n",
       "      <th>41413</th>\n",
       "      <td>其中包括，广弘控股、万润科技、中创物流、亿晶光电、航锦科技、清新环境、华铁科技、莱茵体育、卫...</td>\n",
       "      <td>3088237</td>\n",
       "      <td>航锦科技</td>\n",
       "    </tr>\n",
       "    <tr>\n",
       "      <th>41414</th>\n",
       "      <td>【红岸预警】科陆电子频繁变卖资产背后：财务危机深重公司持续亏损超12亿元资金或遭占用</td>\n",
       "      <td>3088377</td>\n",
       "      <td>科陆电子</td>\n",
       "    </tr>\n",
       "    <tr>\n",
       "      <th>41415</th>\n",
       "      <td>微信跑马游戏秘诀，根据精功集团此前公告，由于宏观去杠杆等原因，精功集团资金出现流动性困难，导...</td>\n",
       "      <td>3088387</td>\n",
       "      <td>精功集团</td>\n",
       "    </tr>\n",
       "    <tr>\n",
       "      <th>41416</th>\n",
       "      <td>中国重汽实控人将变更为山东省国资委9月29日晚间，中国重汽发布公告称，济南市国资委将其持有的...</td>\n",
       "      <td>3088825</td>\n",
       "      <td>中国重汽</td>\n",
       "    </tr>\n",
       "    <tr>\n",
       "      <th>41417</th>\n",
       "      <td>一个鸡舍能养6万只鸡、仅需2名饲养员看护的现代养殖大户、漯河市阳光禽业有限公司总经理张赢说，...</td>\n",
       "      <td>3089481</td>\n",
       "      <td>漯河市阳光禽业有限公司</td>\n",
       "    </tr>\n",
       "  </tbody>\n",
       "</table>\n",
       "<p>41418 rows × 3 columns</p>\n",
       "</div>"
      ],
      "text/plain": [
       "                                                 content      uid       entity\n",
       "0              皖通科技(002331)实控人杨世宁减持360万股比亚迪预计一季度业绩下滑开盘跌停  2001123          比亚迪\n",
       "1                  上海验配眼镜质量抽查:宝山申视宝铧等店不合格萨博销量下滑过半世爵已资不抵债  2001512           萨博\n",
       "2      江苏金湖通报疫苗过期三大主因县疾控中心领导班子已全免职山东墨龙(002490)业绩“变脸”及...  2001958         山东墨龙\n",
       "3                        原标题：斐讯0元购陷阱买家数亿资金被套无法提现责任编辑：柯金定  2003028           斐讯\n",
       "4      2018年8月27日?-?就无法提现的问题,健康猫给出了以下处理方案:自签订协议起,每6个月...  2004193          健康猫\n",
       "...                                                  ...      ...          ...\n",
       "41413  其中包括，广弘控股、万润科技、中创物流、亿晶光电、航锦科技、清新环境、华铁科技、莱茵体育、卫...  3088237         航锦科技\n",
       "41414         【红岸预警】科陆电子频繁变卖资产背后：财务危机深重公司持续亏损超12亿元资金或遭占用  3088377         科陆电子\n",
       "41415  微信跑马游戏秘诀，根据精功集团此前公告，由于宏观去杠杆等原因，精功集团资金出现流动性困难，导...  3088387         精功集团\n",
       "41416  中国重汽实控人将变更为山东省国资委9月29日晚间，中国重汽发布公告称，济南市国资委将其持有的...  3088825         中国重汽\n",
       "41417  一个鸡舍能养6万只鸡、仅需2名饲养员看护的现代养殖大户、漯河市阳光禽业有限公司总经理张赢说，...  3089481  漯河市阳光禽业有限公司\n",
       "\n",
       "[41418 rows x 3 columns]"
      ]
     },
     "execution_count": 10,
     "metadata": {},
     "output_type": "execute_result"
    }
   ],
   "source": [
    "train"
   ]
  },
  {
   "cell_type": "code",
   "execution_count": 11,
   "metadata": {},
   "outputs": [
    {
     "data": {
      "text/html": [
       "<div>\n",
       "<style scoped>\n",
       "    .dataframe tbody tr th:only-of-type {\n",
       "        vertical-align: middle;\n",
       "    }\n",
       "\n",
       "    .dataframe tbody tr th {\n",
       "        vertical-align: top;\n",
       "    }\n",
       "\n",
       "    .dataframe thead th {\n",
       "        text-align: right;\n",
       "    }\n",
       "</style>\n",
       "<table border=\"1\" class=\"dataframe\">\n",
       "  <thead>\n",
       "    <tr style=\"text-align: right;\">\n",
       "      <th></th>\n",
       "      <th>content</th>\n",
       "      <th>uid</th>\n",
       "    </tr>\n",
       "  </thead>\n",
       "  <tbody>\n",
       "    <tr>\n",
       "      <th>0</th>\n",
       "      <td>比如北京蓝天瑞德环保技术股份有限公司,,，经营业绩异常波动、涉及重大诉讼、公司银行账户被冻结...</td>\n",
       "      <td>2146341</td>\n",
       "    </tr>\n",
       "    <tr>\n",
       "      <th>1</th>\n",
       "      <td>03Ø风险中心由此线索深挖出福佑卡车数据造假、财务严重违规操作、多位核心高管知情并串谋、横跨...</td>\n",
       "      <td>2146779</td>\n",
       "    </tr>\n",
       "    <tr>\n",
       "      <th>2</th>\n",
       "      <td>2018年1月24日，公司发布了《海南航空控股股份有限公司重大资产重组停牌公告》(公告编号：...</td>\n",
       "      <td>2146933</td>\n",
       "    </tr>\n",
       "    <tr>\n",
       "      <th>3</th>\n",
       "      <td>三、被告广州市财京融资担保有限公司对被告鞠佳珍、谭厚兵的上述债务承担连带清偿责任。</td>\n",
       "      <td>2148028</td>\n",
       "    </tr>\n",
       "    <tr>\n",
       "      <th>4</th>\n",
       "      <td>4、2014年4月9日，詹庆辉向北京市海淀区人民法院申请司法轮候冻结合慧伟业持有本公司全部股...</td>\n",
       "      <td>2150490</td>\n",
       "    </tr>\n",
       "    <tr>\n",
       "      <th>...</th>\n",
       "      <td>...</td>\n",
       "      <td>...</td>\n",
       "    </tr>\n",
       "    <tr>\n",
       "      <th>1012</th>\n",
       "      <td>#中经实时报#【百年人寿易主：绿城中国或接盘万达成第一大股东】12月17日晚间，绿城中国,,...</td>\n",
       "      <td>3141982</td>\n",
       "    </tr>\n",
       "    <tr>\n",
       "      <th>1013</th>\n",
       "      <td>辽宁科隆精细化工股份有限公司,300405，sz,7月9日发布的一份公告显示，公司实际控制人...</td>\n",
       "      <td>3142853</td>\n",
       "    </tr>\n",
       "    <tr>\n",
       "      <th>1014</th>\n",
       "      <td>依据法院裁定，成都米米乐电子商务股份有限公司原实控人刘文太将手中所持成都米米乐电子商务股份有...</td>\n",
       "      <td>3143432</td>\n",
       "    </tr>\n",
       "    <tr>\n",
       "      <th>1015</th>\n",
       "      <td>此外，长沙水业拟认购公司非公开发行的全部亿股股票，转让后，长沙水业将持有%公司股份，成为惠博...</td>\n",
       "      <td>3145375</td>\n",
       "    </tr>\n",
       "    <tr>\n",
       "      <th>1016</th>\n",
       "      <td>近日，造车新势力威马成了各大媒体关注的焦点，原因是浙江吉利控股集团向高院提起关于威马以及旗下...</td>\n",
       "      <td>3146069</td>\n",
       "    </tr>\n",
       "  </tbody>\n",
       "</table>\n",
       "<p>1017 rows × 2 columns</p>\n",
       "</div>"
      ],
      "text/plain": [
       "                                                content      uid\n",
       "0     比如北京蓝天瑞德环保技术股份有限公司,,，经营业绩异常波动、涉及重大诉讼、公司银行账户被冻结...  2146341\n",
       "1     03Ø风险中心由此线索深挖出福佑卡车数据造假、财务严重违规操作、多位核心高管知情并串谋、横跨...  2146779\n",
       "2     2018年1月24日，公司发布了《海南航空控股股份有限公司重大资产重组停牌公告》(公告编号：...  2146933\n",
       "3             三、被告广州市财京融资担保有限公司对被告鞠佳珍、谭厚兵的上述债务承担连带清偿责任。  2148028\n",
       "4     4、2014年4月9日，詹庆辉向北京市海淀区人民法院申请司法轮候冻结合慧伟业持有本公司全部股...  2150490\n",
       "...                                                 ...      ...\n",
       "1012  #中经实时报#【百年人寿易主：绿城中国或接盘万达成第一大股东】12月17日晚间，绿城中国,,...  3141982\n",
       "1013  辽宁科隆精细化工股份有限公司,300405，sz,7月9日发布的一份公告显示，公司实际控制人...  3142853\n",
       "1014  依据法院裁定，成都米米乐电子商务股份有限公司原实控人刘文太将手中所持成都米米乐电子商务股份有...  3143432\n",
       "1015  此外，长沙水业拟认购公司非公开发行的全部亿股股票，转让后，长沙水业将持有%公司股份，成为惠博...  3145375\n",
       "1016  近日，造车新势力威马成了各大媒体关注的焦点，原因是浙江吉利控股集团向高院提起关于威马以及旗下...  3146069\n",
       "\n",
       "[1017 rows x 2 columns]"
      ]
     },
     "execution_count": 11,
     "metadata": {},
     "output_type": "execute_result"
    }
   ],
   "source": [
    "test"
   ]
  },
  {
   "cell_type": "code",
   "execution_count": null,
   "metadata": {},
   "outputs": [],
   "source": []
  }
 ],
 "metadata": {
  "kernelspec": {
   "display_name": "Python 3",
   "language": "python",
   "name": "python3"
  },
  "language_info": {
   "codemirror_mode": {
    "name": "ipython",
    "version": 3
   },
   "file_extension": ".py",
   "mimetype": "text/x-python",
   "name": "python",
   "nbconvert_exporter": "python",
   "pygments_lexer": "ipython3",
   "version": "3.7.2"
  }
 },
 "nbformat": 4,
 "nbformat_minor": 1
}
